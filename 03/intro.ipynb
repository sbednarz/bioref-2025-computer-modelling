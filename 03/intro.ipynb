{
 "cells": [
  {
   "cell_type": "markdown",
   "id": "36358703",
   "metadata": {},
   "source": [
    "\n",
    "## Mass balance on reactive system. Extent of the reaction. Conversion."
   ]
  },
  {
   "cell_type": "markdown",
   "id": "19494739",
   "metadata": {},
   "source": [
    "##### Extent of the reaction is defined as: \n",
    "\n",
    "$\\Large\\xi = \\frac{n_i - n_{i,0}}{\\nu_i}$\n",
    "\n",
    "##### which is equivalent to the formula:\n",
    "\n",
    "$\\Large n_i = n_{i,0} + \\nu_i\\xi$\n",
    "\n",
    "##### When the reaction is performed in a constant volume system, the extent of the reaction is directly determined as a function of the concentration ($C$):\n",
    "\n",
    "$\\Large C_i = C_{i,0} + \\nu_i\\xi$\n",
    "\n",
    "\n",
    "\n",
    "##### Remarks:\n",
    "\n",
    "* $\\Large\\xi>0\\ \\textrm{or}\\ \\xi<0\\ \\textrm{or}\\ \\xi=0$\n",
    "\n",
    "\n",
    "* $\\Large[\\xi]=\\textrm{mol}$\n",
    "\n",
    "\n",
    "* $\\Large\\textrm{accu = in - out + gen - con} => \\Large n_{i,out} = n_{i,in} + \\nu_i\\xi$ \n",
    "\n",
    "---\n",
    "\n",
    "\n",
    "##### Conversion is defined as: \n",
    "\n",
    "$\\Large X_A = \\frac{n_{A,0} - n_A}{n_{A,0}}$\n",
    "\n",
    "\n",
    "##### In a constant volume system, the conversion can be expressed as a function of concentration:\n",
    "\n",
    "\n",
    "$\\Large C_A = \\frac{C_{A,0} - C_A}{C_{A,0}}$\n",
    "\n",
    "\n",
    "##### Remarks:\n",
    "\n",
    "* $\\Large X \\in \\langle0,1\\rangle$ or $\\Large X \\in \\langle0,X_e\\rangle\\ X_e<1$ for reversible reactions\n",
    "\n",
    "* $\\Large X$ is unitless\n",
    "\n",
    "\n",
    "---\n",
    "\n",
    "#### Example 1:\n",
    "\n",
    "A + 2B => 3C\n",
    "\n",
    "$\\nu_A = -1, \\nu_B = -2, \\nu_C = 3$\n",
    "\n",
    "$ n_A = n_{A,0} -1\\xi$\n",
    "\n",
    "$ n_B = n_{B,0} -2\\xi$\n",
    "\n",
    "$n_C = n_{C,0} +3\\xi$\n",
    "\n",
    "\n",
    "\n",
    "\n",
    "---"
   ]
  },
  {
   "cell_type": "markdown",
   "id": "6eae08e8",
   "metadata": {},
   "source": [
    "#### Example 2:\n",
    "\n",
    "A + 2B => 3C\n",
    "\n",
    "initially: $n_{A,0} = 5,\\ \\ n_{B,0} = 4,\\ \\ n_{C,0} = 3$,\n",
    "\n",
    "after the reaction: $n_{A} = 3.5,\\ \\ n_{B} = 1,\\ \\ n_{C} = 7.5$\n",
    "\n",
    "Calculate the $\\xi$ (xi)."
   ]
  },
  {
   "cell_type": "code",
   "execution_count": 1,
   "id": "263a5b9d",
   "metadata": {},
   "outputs": [
    {
     "name": "stdout",
     "output_type": "stream",
     "text": [
      "A: 1.5 mol\n",
      "B: 1.5 mol\n",
      "C: 1.5 mol\n"
     ]
    }
   ],
   "source": [
    "# A\n",
    "xi = (3.5 - 5)/-1\n",
    "print(\"A:\", xi, \"mol\")\n",
    "\n",
    "# B\n",
    "xi = (1 - 4)/-2\n",
    "print(\"B:\", xi, \"mol\")\n",
    "\n",
    "# C\n",
    "xi = (7.5 - 3)/3\n",
    "print(\"C:\", xi, \"mol\")\n",
    "\n"
   ]
  },
  {
   "cell_type": "markdown",
   "id": "5268f15a",
   "metadata": {},
   "source": [
    "#### Example 3:\n",
    "\n",
    "A + 2B <=> 3C\n",
    "\n",
    "initially: $n_{A,0} = 5,\\ \\ n_{B,0} = 4,\\ \\ n_{C,0} = 7$,\n",
    "\n",
    "after the reaction: $n_{A} = 7,\\ \\ n_{B} = 8,\\ \\ n_{C} = 1$\n",
    "\n",
    "Calculate the $\\xi$ (xi)."
   ]
  },
  {
   "cell_type": "code",
   "execution_count": 2,
   "id": "f320ffa2",
   "metadata": {},
   "outputs": [
    {
     "name": "stdout",
     "output_type": "stream",
     "text": [
      "A: -2.0 mol\n",
      "B: -2.0 mol\n",
      "C: -2.0 mol\n"
     ]
    }
   ],
   "source": [
    "# A\n",
    "xi = (7 - 5)/-1\n",
    "print(\"A:\", xi, \"mol\")\n",
    "\n",
    "# B\n",
    "xi = (8 - 4)/-2\n",
    "print(\"B:\", xi, \"mol\")\n",
    "\n",
    "# C\n",
    "xi = (1 - 7)/3\n",
    "print(\"C:\", xi, \"mol\")\n"
   ]
  },
  {
   "cell_type": "markdown",
   "id": "0b0958f5",
   "metadata": {},
   "source": [
    "#### Example 4\n",
    "\n",
    "One reaction\n",
    "\n",
    "<img align=\"center\" src=\"4.png\"/>\n",
    "\n",
    "\n",
    "\n",
    "---\n",
    "\n",
    "At the output: $n_i = n_{i,0} + \\nu_i\\xi$\n",
    "\n",
    "Note $\\nu_i$ is negative or positive"
   ]
  },
  {
   "cell_type": "code",
   "execution_count": 3,
   "id": "5425442e",
   "metadata": {},
   "outputs": [
    {
     "name": "stdout",
     "output_type": "stream",
     "text": [
      "xi = 2\n",
      "nB = 1\n",
      "nC = 6\n"
     ]
    }
   ],
   "source": [
    "nA0 = 2\n",
    "nB0 = 5\n",
    "nC0 = 0\n",
    "\n",
    "nA = 0\n",
    "\n",
    "# nA = nA0 - 1*xi\n",
    "# nB = nB0 - 2*xi\n",
    "# nC = nC0 + 3*xi\n",
    "\n",
    "xi = nA0 - nA\n",
    "print(\"xi =\",xi)\n",
    "\n",
    "nB = nB0 - 2*xi\n",
    "nC = nC0 + 3*xi\n",
    "\n",
    "print(\"nB =\", nB)\n",
    "print(\"nC =\", nC)\n"
   ]
  },
  {
   "cell_type": "code",
   "execution_count": 4,
   "id": "71e8d131",
   "metadata": {},
   "outputs": [
    {
     "data": {
      "image/png": "[encoded data removed]",
      "text/plain": [
       "<Figure size 720x504 with 1 Axes>"
      ]
     },
     "metadata": {
      "needs_background": "light"
     },
     "output_type": "display_data"
    }
   ],
   "source": [
    "import numpy as np\n",
    "import matplotlib.pyplot as plt\n",
    "from matplotlib.pyplot import figure\n",
    "%matplotlib inline\n",
    "\n",
    "figure(figsize=(10,7))\n",
    "\n",
    "\n",
    "nA0 = 2\n",
    "nB0 = 5\n",
    "nC0 = 0\n",
    "\n",
    "xi = np.linspace(-1,4)\n",
    "nA = nA0 - 1*xi\n",
    "nB = nB0 - 2*xi\n",
    "nC = nC0 + 3*xi\n",
    "\n",
    "plt.xlabel(r\"$\\xi$, mol\")\n",
    "plt.ylabel(r\"$n_i$, mol\")\n",
    "plt.plot(xi, nA, label='A')\n",
    "plt.plot(xi, nB, label='B')\n",
    "plt.plot(xi, nC, label='C')\n",
    "\n",
    "# ni range\n",
    "plt.plot((-1,4),(0,0),'r:')\n",
    "\n",
    "# marks: xi=0 => initial state\n",
    "plt.plot(0, nA0, 'ro', label=\"Initial state\")\n",
    "plt.plot(0, nB0, 'ro')\n",
    "plt.plot(0, nC0, 'ro')\n",
    "\n",
    "# marks: xi=2 => final state\n",
    "xi=2\n",
    "nA = nA0 - 1*xi\n",
    "nB = nB0 - 2*xi\n",
    "nC = nC0 + 3*xi\n",
    "plt.plot(2, nA, 'ko', label=\"Final state\")\n",
    "plt.plot(2, nB, 'ko')\n",
    "plt.plot(2, nC, 'ko')\n",
    "\n",
    "\n",
    "\n",
    "plt.title(\"Reaction extent as the reaction coordinate\")\n",
    "plt.legend()\n",
    "plt.grid()\n"
   ]
  },
  {
   "cell_type": "markdown",
   "id": "d4d39285",
   "metadata": {},
   "source": [
    "#### Example 5\n",
    "\n",
    "Multiple reactions\n",
    "\n",
    "<img align=\"center\" src=\"5.png\"/>\n",
    "\n",
    "\n",
    "Express $n_i$ as function of the reaction extent.\n",
    "\n",
    "---\n",
    "\n",
    "$n_A = n_{A,0} - \\xi_1 - \\xi_2$\n",
    "\n",
    "$n_B = n_{B,0} - \\xi_1 - 2\\xi_2$\n",
    "\n",
    "$n_C = n_{C,0} + 2\\xi_1$\n",
    "\n",
    "$n_D = n_{D,0} + \\xi_2$\n"
   ]
  },
  {
   "cell_type": "code",
   "execution_count": 5,
   "id": "cc1b63b2",
   "metadata": {},
   "outputs": [
    {
     "data": {
      "text/plain": [
       "Text(0.5, 0, '$n_i$')"
      ]
     },
     "execution_count": 5,
     "metadata": {},
     "output_type": "execute_result"
    },
    {
     "data": {
      "image/png": "[encoded data removed]",
      "text/plain": [
       "<Figure size 432x288 with 1 Axes>"
      ]
     },
     "metadata": {
      "needs_background": "light"
     },
     "output_type": "display_data"
    }
   ],
   "source": [
    "# BTW: https://matplotlib.org/stable/gallery/index.html\n",
    "\n",
    "\n",
    "# just assumed\n",
    "nA0 = 5\n",
    "nB0 = 4\n",
    "nC0 = 5\n",
    "nD0 = 5\n",
    "\n",
    "\n",
    "#nA = nA0 - xi1 - xi2\n",
    "#nB = nB0 - xi1 - 2*xi2\n",
    "#nC = nC0 + 2*xi1\n",
    "#nD = nD0 + xi2\n",
    "\n",
    "xi1, xi2 = np.mgrid[-2:2, -2:2]\n",
    "nA = nA0 - xi1 - xi2\n",
    "nB = nB0 - xi1 - 2*xi2\n",
    "\n",
    "\n",
    "ax = plt.figure().add_subplot(projection='3d')\n",
    "ax.plot_surface(xi1, xi2, nA)\n",
    "ax.plot_surface(xi1, xi2, nB)\n",
    "\n",
    "ax.set_xlabel(r\"$\\xi_1$\")\n",
    "ax.set_ylabel(r\"$\\xi_2$\")\n",
    "ax.set_zlabel(r\"$n_i$\")"
   ]
  },
  {
   "cell_type": "markdown",
   "id": "fca01cbf-93cd-4eed-bf8b-fa96a03a152f",
   "metadata": {},
   "source": [
    "#### Example 6\n",
    "\n",
    "<img align=\"center\" src=\"6.png\"/>\n",
    "\n",
    "\n",
    "Initially: $[A]_0$=0.1 mol/L, $[B]_0$=0.2 mol/L and $[C]_0$=0 mol/L\n",
    "\n",
    "K=10\n",
    "\n"
   ]
  },
  {
   "cell_type": "markdown",
   "id": "fc96e11b-6e3a-4f7e-a0f5-9e14a9da3021",
   "metadata": {},
   "source": [
    "##### Approach no 1 - species mass balance + eq const definition\n",
    "\n",
    "<img align=\"center\" src=\"6a.png\"/>"
   ]
  },
  {
   "cell_type": "code",
   "execution_count": 6,
   "id": "fb14e267-c148-4a82-9bae-28a471ead11e",
   "metadata": {},
   "outputs": [
    {
     "name": "stdout",
     "output_type": "stream",
     "text": [
      "Concentrations under equilibrium: [A]=0.041, [B]=0.141 [C]=0.059\n"
     ]
    }
   ],
   "source": [
    "# approach no. 1\n",
    "\n",
    "import numpy as np\n",
    "from scipy.optimize import fsolve\n",
    "\n",
    "def model(X):\n",
    "    A, B, C = X\n",
    "    eq1 = C/(A*B) - K\n",
    "    eq2 = A - A0 + C\n",
    "    eq3 = B - B0 + C\n",
    "    return [eq1, eq2, eq3]\n",
    "\n",
    "A0 = 0.1\n",
    "B0 = 0.2\n",
    "K = 10\n",
    "\n",
    "guess = [0.01, 0.01, 0.01]\n",
    "\n",
    "A, B, C = fsolve(model, guess)\n",
    "\n",
    "print(\"Concentrations under equilibrium: [A]={:.3f}, [B]={:.3f} [C]={:.3f}\".format(A, B, C))"
   ]
  },
  {
   "cell_type": "markdown",
   "id": "8fd351e9-253b-49e1-931c-0075c22f5832",
   "metadata": {},
   "source": [
    "##### Approach no 2 - reaction extent\n",
    "\n",
    "$\\Large\\frac{[C]}{[A][B])} = K$\n",
    "\n",
    "\n",
    "<img align=\"center\" src=\"6b.png\"/>"
   ]
  },
  {
   "cell_type": "code",
   "execution_count": 9,
   "id": "9efb7828-10c7-4cb9-bdba-4c4463f6917f",
   "metadata": {},
   "outputs": [
    {
     "name": "stdout",
     "output_type": "stream",
     "text": [
      "Concentrations under equilibrium: [A]=0.041, [B]=0.141 [C]=0.059\n"
     ]
    }
   ],
   "source": [
    "# approach no. 2\n",
    "\n",
    "\n",
    "# A = A0 - xi\n",
    "# B = B0 - xi\n",
    "# C = C0 + xi\n",
    "\n",
    "import numpy as np\n",
    "from scipy.optimize import fsolve\n",
    "\n",
    "def model(X):\n",
    "    xi = X\n",
    "    eq1 = xi/((A0-xi)*(B0-xi)) - K\n",
    "    return eq1\n",
    "\n",
    "A0 = 0.1\n",
    "B0 = 0.2\n",
    "C0 = 0\n",
    "K = 10\n",
    "\n",
    "guess = [0.01]\n",
    "\n",
    "xi, = fsolve(model, guess)\n",
    "A = A0 - xi\n",
    "B = B0 - xi\n",
    "C = C0 + xi\n",
    "\n",
    "print(\"Concentrations under equilibrium: [A]={:.3f}, [B]={:.3f} [C]={:.3f}\".format(A, B, C))\n"
   ]
  },
  {
   "cell_type": "markdown",
   "id": "a0ccacf0-8372-4977-8d41-0df1ef01129b",
   "metadata": {},
   "source": [
    "#### Example 7\n",
    "\n",
    "<img align=\"center\" src=\"7.png\"/>\n",
    "\n",
    "Initially: $[A]_0$=1 mol/L, $[B]_0$=1 mol/L and $[C]_0$ = 1 mol/L $[D]_0$=0 mol/L\n",
    "\n",
    "$K_1$=10, $K_2$=10\n",
    "\n",
    "\n",
    "<img align=\"center\" src=\"7a.png\"/>"
   ]
  },
  {
   "cell_type": "code",
   "execution_count": 26,
   "id": "5c53d073-3936-45b1-87c1-2b54c31c707b",
   "metadata": {},
   "outputs": [
    {
     "name": "stdout",
     "output_type": "stream",
     "text": [
      "Concentrations under equilibrium: [A]=0.088, [B]=0.378 [C]=0.331 [D]=0.290\n"
     ]
    }
   ],
   "source": [
    "# approach no. 2\n",
    "\n",
    "import numpy as np\n",
    "from scipy.optimize import fsolve\n",
    "\n",
    "def model(X):\n",
    "    xi1, xi2 = X\n",
    "    A = A0 - xi1 - xi2\n",
    "    B = B0 - xi1\n",
    "    C = C0 + xi1 - xi2\n",
    "    D = D0 + xi2\n",
    "    \n",
    "    eq1 = K1*A*B - C  # equivalent form of K1 - C/(A*B)\n",
    "    eq2 = K2*A*C - D  # equivalent form of K2 - D/(A*C)\n",
    "    \n",
    "    return [eq1, eq2]\n",
    "\n",
    "A0 = 1\n",
    "B0 = 1\n",
    "C0 = 0\n",
    "D0 = 0\n",
    "K1 = 10\n",
    "K2 = 10\n",
    "\n",
    "guess = [0,0] # try -10, 0, 1, 10 ...\n",
    "\n",
    "xi1, xi2 = fsolve(model, guess)\n",
    "A = A0 - xi1 - xi2\n",
    "B = B0 - xi1\n",
    "C = C0 + xi1 - xi2\n",
    "D = D0 + xi2\n",
    "print(\"Concentrations under equilibrium: [A]={:.3f}, [B]={:.3f} [C]={:.3f} [D]={:.3f}\".format(A, B, C, D))\n"
   ]
  },
  {
   "cell_type": "code",
   "execution_count": null,
   "id": "47b964d8-d2ca-435d-bdfc-2f6c9979d7a7",
   "metadata": {},
   "outputs": [],
   "source": []
  }
 ],
 "metadata": {
  "kernelspec": {
   "display_name": "Python 3 (ipykernel)",
   "language": "python",
   "name": "python3"
  },
  "language_info": {
   "codemirror_mode": {
    "name": "ipython",
    "version": 3
   },
   "file_extension": ".py",
   "mimetype": "text/x-python",
   "name": "python",
   "nbconvert_exporter": "python",
   "pygments_lexer": "ipython3",
   "version": "3.7.12"
  }
 },
 "nbformat": 4,
 "nbformat_minor": 5
}
