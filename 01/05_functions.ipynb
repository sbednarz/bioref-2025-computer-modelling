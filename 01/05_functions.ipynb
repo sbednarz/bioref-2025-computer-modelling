{
 "cells": [
  {
   "cell_type": "code",
   "execution_count": 4,
   "id": "6d763b3e-4029-49c3-b247-5daf77b2944c",
   "metadata": {
    "tags": []
   },
   "outputs": [
    {
     "name": "stdout",
     "output_type": "stream",
     "text": [
      "main script #1\n",
      "inside myfunction\n",
      "main script #2\n"
     ]
    }
   ],
   "source": [
    "# Python functions\n",
    "\n",
    "\n",
    "def myfunction():\n",
    "    print(\"inside myfunction\")\n",
    "    \n",
    "    \n",
    "\n",
    "print(\"main script #1\")\n",
    "myfunction()\n",
    "print(\"main script #2\")\n"
   ]
  },
  {
   "cell_type": "code",
   "execution_count": 6,
   "id": "8198977b-f4a2-4c2f-b0ab-f71deecc7eff",
   "metadata": {
    "tags": []
   },
   "outputs": [
    {
     "name": "stdout",
     "output_type": "stream",
     "text": [
      "main script\n",
      "inside myfunction, x= 12\n"
     ]
    }
   ],
   "source": [
    "def myfunction(x):\n",
    "    print(\"inside myfunction, x=\",x)\n",
    "    \n",
    "print(\"main script\")\n",
    "myfunction(12)"
   ]
  },
  {
   "cell_type": "code",
   "execution_count": null,
   "id": "86fd69ad-0164-41d5-98b2-b945d47a93bb",
   "metadata": {},
   "outputs": [],
   "source": []
  },
  {
   "cell_type": "code",
   "execution_count": 8,
   "id": "d9a565db-92cc-4e3b-bc44-9445f27167c5",
   "metadata": {
    "tags": []
   },
   "outputs": [
    {
     "name": "stdout",
     "output_type": "stream",
     "text": [
      "main script\n",
      "Inside myfunction, x=12 y=-1\n"
     ]
    }
   ],
   "source": [
    "def myfunction(x, y):\n",
    "    print(\"Inside myfunction, x={} y={}\".format(x,y))\n",
    "    \n",
    "print(\"main script\")\n",
    "myfunction(12, -1)"
   ]
  },
  {
   "cell_type": "code",
   "execution_count": null,
   "id": "b1585ae0-51f8-41f3-9837-ee362f37d7e0",
   "metadata": {},
   "outputs": [],
   "source": []
  },
  {
   "cell_type": "code",
   "execution_count": 12,
   "id": "1f045c46-ea3d-4c87-83d6-4deb5a6aac4b",
   "metadata": {
    "tags": []
   },
   "outputs": [
    {
     "name": "stdout",
     "output_type": "stream",
     "text": [
      "Test\n",
      "Inside myfunction, x=12 y=-1 a=100\n"
     ]
    },
    {
     "ename": "NameError",
     "evalue": "name 'a' is not defined",
     "output_type": "error",
     "traceback": [
      "\u001b[0;31m---------------------------------------------------------------------------\u001b[0m",
      "\u001b[0;31mNameError\u001b[0m                                 Traceback (most recent call last)",
      "Cell \u001b[0;32mIn[12], line 7\u001b[0m\n\u001b[1;32m      5\u001b[0m \u001b[38;5;28mprint\u001b[39m(\u001b[38;5;124m\"\u001b[39m\u001b[38;5;124mTest\u001b[39m\u001b[38;5;124m\"\u001b[39m)\n\u001b[1;32m      6\u001b[0m myfunction(\u001b[38;5;241m12\u001b[39m, \u001b[38;5;241m-\u001b[39m\u001b[38;5;241m1\u001b[39m)\n\u001b[0;32m----> 7\u001b[0m \u001b[38;5;28mprint\u001b[39m(\u001b[43ma\u001b[49m)  \u001b[38;5;66;03m# ERROR! local variable is not visible here\u001b[39;00m\n",
      "\u001b[0;31mNameError\u001b[0m: name 'a' is not defined"
     ]
    }
   ],
   "source": [
    "def myfunction(x, y):\n",
    "    a=100 # local variable\n",
    "    print(\"Inside myfunction, x={} y={} a={}\".format(x,y,a))\n",
    "    \n",
    "print(\"Test\")\n",
    "myfunction(12, -1)\n",
    "print(a)  # ERROR! local variable is not visible here"
   ]
  },
  {
   "cell_type": "code",
   "execution_count": null,
   "id": "071ac599-eb68-47ca-8cdd-a0997b2198b0",
   "metadata": {},
   "outputs": [],
   "source": []
  },
  {
   "cell_type": "code",
   "execution_count": 13,
   "id": "dabab901-1bb1-4485-a83a-c4fcc4ca2f00",
   "metadata": {
    "tags": []
   },
   "outputs": [
    {
     "name": "stdout",
     "output_type": "stream",
     "text": [
      "1 hours is 3600 seconds\n"
     ]
    }
   ],
   "source": [
    "# convert hours to seconds\n",
    "def hr2s(h):\n",
    "    s = 3600*h\n",
    "    return s\n",
    "\n",
    "# lets check:\n",
    "\n",
    "h1 = 1\n",
    "s1 = hr2s(h1)\n",
    "print(\"{} hours is {} seconds\".format(h1, s1)) "
   ]
  },
  {
   "cell_type": "code",
   "execution_count": 14,
   "id": "b0112792-7504-4693-a775-121dc392534e",
   "metadata": {
    "tags": []
   },
   "outputs": [
    {
     "name": "stdout",
     "output_type": "stream",
     "text": [
      "3600\n"
     ]
    }
   ],
   "source": [
    "# or briefly:\n",
    "print(hr2s(1))"
   ]
  },
  {
   "cell_type": "code",
   "execution_count": null,
   "id": "9a6b68d5-983a-446c-9645-82df3a6369b1",
   "metadata": {},
   "outputs": [],
   "source": []
  },
  {
   "cell_type": "code",
   "execution_count": 15,
   "id": "e1bf6884-173f-40dd-b61c-16357a39be1f",
   "metadata": {
    "tags": []
   },
   "outputs": [],
   "source": [
    "# TODO\n",
    "# To implement function calculating molar conc based on 'n' and 'V'"
   ]
  },
  {
   "cell_type": "code",
   "execution_count": null,
   "id": "6b8adb2c-3ba2-471d-8912-3b6f4fb10562",
   "metadata": {},
   "outputs": [],
   "source": [
    "\n"
   ]
  },
  {
   "cell_type": "code",
   "execution_count": 16,
   "id": "2c69762c-736d-4958-8649-b903f9ac672e",
   "metadata": {
    "tags": []
   },
   "outputs": [
    {
     "name": "stdout",
     "output_type": "stream",
     "text": [
      "11\n",
      "100\n"
     ]
    }
   ],
   "source": [
    "# multiple results\n",
    "\n",
    "def complex_calc(x):\n",
    "    return x+1, x*10\n",
    "\n",
    "\n",
    "a, b = complex_calc(10)\n",
    "print(a)\n",
    "print(b)"
   ]
  },
  {
   "cell_type": "code",
   "execution_count": 17,
   "id": "6862abbd-c99d-44ec-9372-30c8237d3bf9",
   "metadata": {
    "tags": []
   },
   "outputs": [
    {
     "name": "stdout",
     "output_type": "stream",
     "text": [
      "a= [1, 2, 3]\n",
      "d= [4, 5]\n",
      "1 2 3\n"
     ]
    }
   ],
   "source": [
    "# A digression: lists in Python\n",
    "\n",
    "a = [1, 2, 3]\n",
    "b = 4\n",
    "c = 5\n",
    "d = [b, c]\n",
    "\n",
    "print(\"a=\",a)\n",
    "print(\"d=\",d)\n",
    "\n",
    "# indices\n",
    "a1 = a[0]\n",
    "a2 = a[1]\n",
    "a3 = a[2]\n",
    "\n",
    "print(a1, a2, a3)"
   ]
  },
  {
   "cell_type": "code",
   "execution_count": 18,
   "id": "e4d6b30d-efdb-4397-878e-f1055abe5bea",
   "metadata": {
    "tags": []
   },
   "outputs": [
    {
     "name": "stdout",
     "output_type": "stream",
     "text": [
      "1 2 3\n"
     ]
    }
   ],
   "source": [
    "# another way:\n",
    "aa1, aa2, aa3 = a\n",
    "print(aa1, aa2, aa3)"
   ]
  },
  {
   "cell_type": "code",
   "execution_count": 19,
   "id": "06910c98-840e-4f3e-87a7-97605bbd3dec",
   "metadata": {
    "tags": []
   },
   "outputs": [
    {
     "name": "stdout",
     "output_type": "stream",
     "text": [
      "(11, 100)\n"
     ]
    }
   ],
   "source": [
    "\n",
    "# multiple results\n",
    "\n",
    "def complex_calc2(x):\n",
    "    return [x+1, x*10] # return a two-element list\n",
    "\n",
    "\n",
    "result = complex_calc(10)\n",
    "print(result)\n"
   ]
  },
  {
   "cell_type": "code",
   "execution_count": null,
   "id": "77b0bb3c-b2f7-45b0-8b00-a6b6fae71780",
   "metadata": {},
   "outputs": [],
   "source": []
  }
 ],
 "metadata": {
  "kernelspec": {
   "display_name": "Python 3 (ipykernel)",
   "language": "python",
   "name": "python3"
  },
  "language_info": {
   "codemirror_mode": {
    "name": "ipython",
    "version": 3
   },
   "file_extension": ".py",
   "mimetype": "text/x-python",
   "name": "python",
   "nbconvert_exporter": "python",
   "pygments_lexer": "ipython3",
   "version": "3.10.12"
  }
 },
 "nbformat": 4,
 "nbformat_minor": 5
}
