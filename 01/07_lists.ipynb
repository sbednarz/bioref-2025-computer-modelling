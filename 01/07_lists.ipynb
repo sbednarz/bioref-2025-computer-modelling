{
 "cells": [
  {
   "cell_type": "code",
   "execution_count": 8,
   "id": "7e655b02-caee-451a-b3c7-b110e67deb8f",
   "metadata": {
    "tags": []
   },
   "outputs": [
    {
     "name": "stdout",
     "output_type": "stream",
     "text": [
      "[1, 2, 3]\n"
     ]
    }
   ],
   "source": [
    "# Python lists\n",
    "\n",
    "a = [1,2,3]\n",
    "\n",
    "print(a)\n"
   ]
  },
  {
   "cell_type": "code",
   "execution_count": 9,
   "id": "5d36012a-2715-45c2-bc7c-001bab0d9e33",
   "metadata": {
    "tags": []
   },
   "outputs": [
    {
     "name": "stdout",
     "output_type": "stream",
     "text": [
      "1\n"
     ]
    }
   ],
   "source": [
    "# indexing - 0 is the first element\n",
    "print(a[0])"
   ]
  },
  {
   "cell_type": "code",
   "execution_count": 15,
   "id": "91934b39-938a-4ebd-af56-e732c2c2a3ce",
   "metadata": {
    "tags": []
   },
   "outputs": [
    {
     "name": "stdout",
     "output_type": "stream",
     "text": [
      "6\n"
     ]
    }
   ],
   "source": [
    "# access to elements\n",
    "\n",
    "sum = a[0]+a[1]+a[2]\n",
    "print(sum)"
   ]
  },
  {
   "cell_type": "code",
   "execution_count": 16,
   "id": "c311975a-3946-47e0-9c96-89d6c227049b",
   "metadata": {
    "tags": []
   },
   "outputs": [
    {
     "name": "stdout",
     "output_type": "stream",
     "text": [
      "3\n"
     ]
    }
   ],
   "source": [
    "# the last element\n",
    "print(a[-1])"
   ]
  },
  {
   "cell_type": "code",
   "execution_count": 17,
   "id": "22f106c0-acb0-4ece-a3e1-04705448ea72",
   "metadata": {
    "tags": []
   },
   "outputs": [],
   "source": [
    "# list can contain strings\n",
    "b = ['a','b','c']\n",
    "\n",
    "# list is universal\n",
    "c = ['aa',100, 200,-1]\n",
    "\n"
   ]
  },
  {
   "cell_type": "code",
   "execution_count": null,
   "id": "da141e60-658d-47da-b4ca-94f87549e79c",
   "metadata": {},
   "outputs": [],
   "source": []
  }
 ],
 "metadata": {
  "kernelspec": {
   "display_name": "Python 3 (ipykernel)",
   "language": "python",
   "name": "python3"
  },
  "language_info": {
   "codemirror_mode": {
    "name": "ipython",
    "version": 3
   },
   "file_extension": ".py",
   "mimetype": "text/x-python",
   "name": "python",
   "nbconvert_exporter": "python",
   "pygments_lexer": "ipython3",
   "version": "3.10.12"
  }
 },
 "nbformat": 4,
 "nbformat_minor": 5
}
