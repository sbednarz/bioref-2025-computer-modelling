{
 "cells": [
  {
   "cell_type": "code",
   "execution_count": 68,
   "id": "c5f6dc03-6751-40c5-aed1-517afffe667b",
   "metadata": {},
   "outputs": [
    {
     "name": "stdout",
     "output_type": "stream",
     "text": [
      "[1. 1. 1. 1. 1. 1. 1. 1. 1. 1. 1. 1. 1. 1. 1. 1. 1. 1. 1. 1. 1. 1. 1. 1.\n",
      " 1. 1. 1. 1. 1. 1. 1. 1. 1. 1. 1. 1. 1. 1. 1. 1. 1. 1. 1. 1. 1. 1. 1. 1.\n",
      " 1. 1.]\n"
     ]
    },
    {
     "data": {
      "text/plain": [
       "<matplotlib.legend.Legend at 0x7ff5eb80fd10>"
      ]
     },
     "execution_count": 68,
     "metadata": {},
     "output_type": "execute_result"
    },
    {
     "data": {
      "image/png": "[encoded data removed]",
      "text/plain": [
       "<Figure size 432x288 with 1 Axes>"
      ]
     },
     "metadata": {
      "needs_background": "light"
     },
     "output_type": "display_data"
    }
   ],
   "source": [
    "import matplotlib.pyplot as plt\n",
    "import numpy as np\n",
    "from scipy.integrate import odeint # to solve ODE numerically\n",
    "\n",
    "# The process: A -> B, k1; B -> C, k2\n",
    "def model(y, t):\n",
    "    A = y[0] # unpack variables\n",
    "    B = y[1]\n",
    "    C = y[2]\n",
    "    dAdt = -k1*A # calculate derivatives\n",
    "    dBdt = k1*A-k2*B\n",
    "    dCdt = k2*B\n",
    "    return [dAdt, dBdt, dCdt] # return derivatives\n",
    "\n",
    "\n",
    "# Parameters\n",
    "k1 = 3e-3 # L/(mol s)\n",
    "k2 = 1e-3 # L/(mol s)\n",
    "\n",
    "A0 = 1 # mol/L\n",
    "B0 = 0 # mol/L\n",
    "C0 = 0 # mol/L\n",
    "# Time span\n",
    "t = np.linspace(0, 3600) # 0 - 1200s\n",
    "# Initial conditions\n",
    "ic = [A0, B0, C0]\n",
    "\n",
    "\n",
    "# Integrate numerically ODEs\n",
    "results = odeint(model, ic, t)\n",
    "\n",
    "# Unpack concentrations\n",
    "A = results[:,0]\n",
    "B = results[:,1]\n",
    "C = results[:,2]\n",
    "\n",
    "# moles balance:\n",
    "print(A+B+C) # should be A0\n",
    "\n",
    "# Plot the results\n",
    "plt.plot(t, A, 'b-', label = 'A')\n",
    "plt.plot(t, B, 'g-', label = 'B')\n",
    "plt.plot(t, C, 'y-', label = 'C')\n",
    "plt.ylabel('Conc., mol/L')\n",
    "plt.xlabel('Time, s')\n",
    "plt.legend()\n"
   ]
  },
  {
   "cell_type": "markdown",
   "id": "9a6faace-a32b-45ec-b66f-20d52b8a9c09",
   "metadata": {},
   "source": [
    "### ODEs for chemical kinetics - Code Snippets"
   ]
  },
  {
   "cell_type": "code",
   "execution_count": null,
   "id": "3743da63-9ecd-458e-8a64-3d3e4b8335ba",
   "metadata": {},
   "outputs": [
    {
     "name": "stdout",
     "output_type": "stream",
     "text": [
      "[A]=0.8353 mol/L, [B]=0.1597 mol/L, [C]=0.0050 mol/L\n"
     ]
    }
   ],
   "source": [
    "# concentrations after 60s of the reaction:\n",
    "t0=0  #s\n",
    "t1=60 #s\n",
    "results = odeint(model, ic, [t0,t1])\n",
    "A,B,C=results[1,:]\n",
    "print(\"[A]={:.4f} mol/L, [B]={:.4f} mol/L, [C]={:.4f} mol/L\".format(A, B, C))\n"
   ]
  },
  {
   "cell_type": "code",
   "execution_count": 67,
   "id": "38a37946-c94f-46b0-8fb4-50646e4bcc90",
   "metadata": {},
   "outputs": [
    {
     "name": "stdout",
     "output_type": "stream",
     "text": [
      "t=0s [A]=1.0000 mol/L, [B]=0.0000 mol/L, [C]=0.0000 mol/L\n",
      "t=60s [A]=0.8353 mol/L, [B]=0.1597 mol/L, [C]=0.0050 mol/L\n",
      "t=120s [A]=0.6977 mol/L, [B]=0.2839 mol/L, [C]=0.0185 mol/L\n"
     ]
    }
   ],
   "source": [
    "# concentrations after 60s and 120s of the reaction:\n",
    "t0=0  #s  - initial conditions\n",
    "t1=60 #s\n",
    "t2=120 #s\n",
    "\n",
    "results = odeint(model, ic, [t0,t1,t2]) # study anatomy of results array\n",
    "A0,B0,C0=results[0,:]\n",
    "A1,B1,C1=results[1,:]\n",
    "A2,B2,C2=results[2,:]\n",
    "\n",
    "print(\"t=0s [A]={:.4f} mol/L, [B]={:.4f} mol/L, [C]={:.4f} mol/L\".format(A0, B0, C0))\n",
    "print(\"t=60s [A]={:.4f} mol/L, [B]={:.4f} mol/L, [C]={:.4f} mol/L\".format(A1, B1, C1))\n",
    "print(\"t=120s [A]={:.4f} mol/L, [B]={:.4f} mol/L, [C]={:.4f} mol/L\".format(A2, B2, C2))\n"
   ]
  },
  {
   "cell_type": "code",
   "execution_count": 39,
   "id": "df6f9e24-96d6-49ea-82da-3d4dbb064643",
   "metadata": {},
   "outputs": [
    {
     "name": "stdout",
     "output_type": "stream",
     "text": [
      "For t=230.63s => [A]=0.5006 mol/L, [B]=0.4401 mol/L, [C]=0.0593 mol/L\n"
     ]
    }
   ],
   "source": [
    "# reaction time after which the concentration of A is 0.5 mol/L\n",
    "\n",
    "Ax = 0.5 \n",
    "t0=0  # initial conditions\n",
    "eps = 0.001 # precision ---- try other values\n",
    "\n",
    "t_range = np.linspace(0,3600,1000) # 1000 steps\n",
    "for t1 in t_range:\n",
    "    results = odeint(model, ic, [t0,t1])\n",
    "    A,B,C=results[1,:]\n",
    "    if np.abs(A-Ax) < eps:\n",
    "        print(\"For t={:.2f}s => [A]={:.4f} mol/L, [B]={:.4f} mol/L, [C]={:.4f} mol/L\".format(t1, A, B, C))\n"
   ]
  },
  {
   "cell_type": "code",
   "execution_count": 43,
   "id": "0d4c72ec-c97e-4f15-8589-678ea7d126e4",
   "metadata": {},
   "outputs": [
    {
     "name": "stdout",
     "output_type": "stream",
     "text": [
      "For t=255.86s => [A]=0.4641 mol/L, [B]=0.4652 mol/L, [C]=0.0707 mol/L\n"
     ]
    }
   ],
   "source": [
    "# reaction time after which the concentration of A is equal to concentration of B\n",
    "\n",
    "t0=0  # initial conditions\n",
    "eps = 0.005 # precision ---- try other values\n",
    "\n",
    "t_range = np.linspace(0,3600,1000) # 1000 steps\n",
    "for t1 in t_range:\n",
    "    results = odeint(model, ic, [t0,t1])\n",
    "    A,B,C=results[1,:]\n",
    "    if np.abs(A-B) < eps:\n",
    "        print(\"For t={:.2f}s => [A]={:.4f} mol/L, [B]={:.4f} mol/L, [C]={:.4f} mol/L\".format(t1, A, B, C))\n"
   ]
  },
  {
   "cell_type": "code",
   "execution_count": 45,
   "id": "a359adf2-6fb7-43ff-b3a4-1abd450c5fd6",
   "metadata": {},
   "outputs": [
    {
     "name": "stdout",
     "output_type": "stream",
     "text": [
      "For t=0.00s => [A]=1.0000 mol/L, [B]=0.0000 mol/L, [C]=0.0000 mol/L\n",
      "For t=1005.41s => [A]=0.0490 mol/L, [B]=0.4754 mol/L, [C]=0.4756 mol/L\n"
     ]
    }
   ],
   "source": [
    "# reaction time after which the concentration of B is equal to concentration of C\n",
    "\n",
    "t0=0  # initial conditions\n",
    "eps = 0.001 # precision ---- try other values\n",
    "\n",
    "t_range = np.linspace(0,3600,1000) # 1000 steps\n",
    "for t1 in t_range:\n",
    "    results = odeint(model, ic, [t0,t1])\n",
    "    A,B,C=results[1,:]\n",
    "    if np.abs(B-C) < eps:\n",
    "        print(\"For t={:.2f}s => [A]={:.4f} mol/L, [B]={:.4f} mol/L, [C]={:.4f} mol/L\".format(t1, A, B, C))\n"
   ]
  },
  {
   "cell_type": "code",
   "execution_count": 65,
   "id": "ffc42074-23d7-4bcf-b16b-d96008e7d8fa",
   "metadata": {},
   "outputs": [
    {
     "name": "stdout",
     "output_type": "stream",
     "text": [
      "[Approach 1] For t=547.75s => [B]max=0.5773 mol/L\n",
      "[Approach 2] For t=549.31s => [B]max=0.5774 mol/L\n"
     ]
    }
   ],
   "source": [
    "# reaction time after which the concentration of B is maximal\n",
    "\n",
    "t0=0  # initial conditions\n",
    "\n",
    "# Approach no 1\n",
    "\n",
    "Bmax = 0\n",
    "tmax = 0\n",
    "\n",
    "t_range = np.linspace(0,3600,1000) # 1000 steps <--- try other values\n",
    "for t1 in t_range:\n",
    "    results = odeint(model, ic, [t0,t1])\n",
    "    A,B,C=results[1,:]\n",
    "    if B > Bmax:\n",
    "        Bmax = B\n",
    "        tmax = t1\n",
    "print(\"[Approach 1] For t={:.2f}s => [B]max={:.4f} mol/L\".format(tmax, Bmax))\n",
    "\n",
    "\n",
    "\n",
    "# Approach no 2:\n",
    "\n",
    "from scipy.optimize import minimize_scalar\n",
    "\n",
    "def objective_function(t):\n",
    "    results = odeint(model, ic, [t0,t])\n",
    "    A,B,C=results[1,:]\n",
    "    return -B # minimize -[B] == maximize [B]\n",
    "\n",
    "#print(minimize_scalar(objective_function,  method='bounded', bounds=(0, 3600)))\n",
    "res = minimize_scalar(objective_function,  method='bounded', bounds=(0, 3600))\n",
    "tmax = res.x\n",
    "Bmax = -res.fun\n",
    "print(\"[Approach 2] For t={:.2f}s => [B]max={:.4f} mol/L\".format(tmax, Bmax))"
   ]
  },
  {
   "cell_type": "code",
   "execution_count": null,
   "id": "80eeca0b-64e3-4efe-b4b8-861c64f8bcbc",
   "metadata": {},
   "outputs": [],
   "source": []
  }
 ],
 "metadata": {
  "kernelspec": {
   "display_name": "Python 3 (ipykernel)",
   "language": "python",
   "name": "python3"
  },
  "language_info": {
   "codemirror_mode": {
    "name": "ipython",
    "version": 3
   },
   "file_extension": ".py",
   "mimetype": "text/x-python",
   "name": "python",
   "nbconvert_exporter": "python",
   "pygments_lexer": "ipython3",
   "version": "3.7.12"
  }
 },
 "nbformat": 4,
 "nbformat_minor": 5
}
