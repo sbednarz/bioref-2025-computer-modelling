{
 "cells": [
  {
   "cell_type": "code",
   "execution_count": 2,
   "id": "9396884e-64a5-4207-bc89-5ab8460c8ae0",
   "metadata": {
    "tags": []
   },
   "outputs": [],
   "source": [
    "# T = 5*t**2+100 [oC]\n",
    "# A+B=>C\n",
    "# The model parameters\n",
    "R = 8.314e-3 # kJ/mol*K\n",
    "# Activation energy\n",
    "Ea = 78 # kJ/mol\n",
    "# Preexponential factor\n",
    "k0 = 10**11.0 # L/mol*s\n",
    "#t = 0--3\n",
    "# A0=0.5 mol/L\n",
    "# B0=0.5 mol/L\n",
    "\n",
    "# Concentration and temperature profile for t = 0 ... 3"
   ]
  },
  {
   "cell_type": "code",
   "execution_count": null,
   "id": "200ec848-da9e-4134-8833-46762158516e",
   "metadata": {},
   "outputs": [],
   "source": []
  }
 ],
 "metadata": {
  "kernelspec": {
   "display_name": "Python 3 (ipykernel)",
   "language": "python",
   "name": "python3"
  },
  "language_info": {
   "codemirror_mode": {
    "name": "ipython",
    "version": 3
   },
   "file_extension": ".py",
   "mimetype": "text/x-python",
   "name": "python",
   "nbconvert_exporter": "python",
   "pygments_lexer": "ipython3",
   "version": "3.10.12"
  }
 },
 "nbformat": 4,
 "nbformat_minor": 5
}
