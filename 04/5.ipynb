{
 "cells": [
  {
   "cell_type": "code",
   "execution_count": 7,
   "id": "fb626127-ea6d-4875-8115-33980e018dc3",
   "metadata": {},
   "outputs": [
    {
     "name": "stdout",
     "output_type": "stream",
     "text": [
      "[1. 1. 1. 1. 1. 1. 1. 1. 1. 1. 1. 1. 1. 1. 1. 1. 1. 1. 1. 1. 1. 1. 1. 1.\n",
      " 1. 1. 1. 1. 1. 1. 1. 1. 1. 1. 1. 1. 1. 1. 1. 1. 1. 1. 1. 1. 1. 1. 1. 1.\n",
      " 1. 1.]\n"
     ]
    },
    {
     "data": {
      "text/plain": [
       "<matplotlib.legend.Legend at 0x7f4d8fa70ad0>"
      ]
     },
     "execution_count": 7,
     "metadata": {},
     "output_type": "execute_result"
    },
    {
     "data": {
      "image/png": "[encoded data removed]",
      "text/plain": [
       "<Figure size 432x288 with 1 Axes>"
      ]
     },
     "metadata": {
      "needs_background": "light"
     },
     "output_type": "display_data"
    }
   ],
   "source": [
    "import matplotlib.pyplot as plt\n",
    "import numpy as np\n",
    "from scipy.integrate import odeint # to solve ODE numerically\n",
    "\n",
    "# The process: A -> B, k1; B -> A, k3;  B -> C, k2\n",
    "# Parameters\n",
    "#k1 = 3e-3 # L/(mol s)\n",
    "#k2 = 10e-3 # L/(mol s)\n",
    "#k3 = 1e-3 # L/(mol s)\n",
    "\n",
    "#A0 = 1 # mol/L\n",
    "#B0 = 0 # mol/L\n",
    "#C0 = 0 # mol/L\n",
    "# Time span\n",
    "#t = np.linspace(0, 3600) # 0 - 1200s\n",
    "\n",
    "\n",
    "\n",
    "\n",
    "\n",
    "\n",
    "\n",
    "\n",
    "\n",
    "\n",
    "\n",
    "\n",
    "\n",
    "\n",
    "\n",
    "\n",
    "\n",
    "\n",
    "\n",
    "\n",
    "\n",
    "\n",
    "\n",
    "\n",
    "\n",
    "\n",
    "\n",
    "\n",
    "\n",
    "\n",
    "\n",
    "\n",
    "\n",
    "\n",
    "\n",
    "\n",
    "\n",
    "\n",
    "\n",
    "\n",
    "\n",
    "\n",
    "\n",
    "\n",
    "\n",
    "\n",
    "\n",
    "\n",
    "\n",
    "\n",
    "\n",
    "\n",
    "\n",
    "\n",
    "\n",
    "\n",
    "\n",
    "\n",
    "def model(y, t):\n",
    "    \n",
    "    # unpack variables\n",
    "    A = y[0]\n",
    "    B = y[1]\n",
    "    C = y[2]\n",
    "    \n",
    "    # calculate derivatives\n",
    "    dAdt = -k1*A + k3*B\n",
    "    dBdt = k1*A-k2*B -k3*B\n",
    "    dCdt = k2*B\n",
    "    \n",
    "    return [dAdt, dBdt, dCdt] # return derivatives\n",
    "\n",
    "\n",
    "# Parameters\n",
    "k1 = 3e-3 # L/(mol s)\n",
    "k2 = 10e-3 # L/(mol s) # set 0 to switch-off the after equilibria step\n",
    "k3 = 1e-3 # L/(mol s)\n",
    "\n",
    "A0 = 1 # mol/L\n",
    "B0 = 0 # mol/L\n",
    "C0 = 0 # mol/L\n",
    "# Time span\n",
    "t = np.linspace(0, 3600) # 0 - 1200s\n",
    "# Initial conditions\n",
    "ic = [A0, B0, C0]\n",
    "\n",
    "\n",
    "# Integrate numerically ODEs\n",
    "results = odeint(model, ic, t)\n",
    "\n",
    "# Unpack concentrations\n",
    "A = results[:,0]\n",
    "B = results[:,1]\n",
    "C = results[:,2]\n",
    "\n",
    "# moles balance:\n",
    "print(A+B+C) # should be A0\n",
    "\n",
    "# Plot the results\n",
    "plt.plot(t, A, 'b-', label = 'A')\n",
    "plt.plot(t, B, 'g-', label = 'B')\n",
    "plt.plot(t, C, 'y-', label = 'C')\n",
    "plt.ylabel('Conc., mol/L')\n",
    "plt.xlabel('Time, s')\n",
    "plt.legend()\n"
   ]
  },
  {
   "cell_type": "code",
   "execution_count": null,
   "id": "1ba207cd-bcc7-42eb-8157-f2eadcfec07d",
   "metadata": {},
   "outputs": [],
   "source": [
    "# max B\n",
    "\n",
    "# Time after which:\n",
    "# [B]=max\n",
    "# [A]=[B]\n",
    "# [B] = 2x[A]\n",
    "# [B] = 90% [A]0\n",
    "\n"
   ]
  }
 ],
 "metadata": {
  "kernelspec": {
   "display_name": "Python 3 (ipykernel)",
   "language": "python",
   "name": "python3"
  },
  "language_info": {
   "codemirror_mode": {
    "name": "ipython",
    "version": 3
   },
   "file_extension": ".py",
   "mimetype": "text/x-python",
   "name": "python",
   "nbconvert_exporter": "python",
   "pygments_lexer": "ipython3",
   "version": "3.7.12"
  }
 },
 "nbformat": 4,
 "nbformat_minor": 5
}
